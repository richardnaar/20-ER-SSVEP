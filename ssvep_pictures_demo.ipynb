{
 "cells": [
  {
   "cell_type": "markdown",
   "metadata": {},
   "source": [
    "## SSVEP demo"
   ]
  },
  {
   "cell_type": "code",
   "execution_count": 1,
   "metadata": {},
   "outputs": [],
   "source": [
    "# Import the modules that we need in this script\n",
    "                     \n",
    "from __future__ import division\n",
    "\n",
    "import sys \n",
    "import os\n",
    "\n",
    "psycholib = 'C:/Program Files (x86)/PsychoPy3/Lib/site-packages'\n",
    "\n",
    "# add psychopy library to the path (if not already)\n",
    "if psycholib not in sys.path:\n",
    "    sys.path.append(psycholib)\n",
    "\n",
    "\n",
    "from psychopy import core, visual, event\n",
    "\n",
    "from numpy import (sin, pi)\n",
    "from numpy.random import shuffle"
   ]
  },
  {
   "cell_type": "code",
   "execution_count": 2,
   "metadata": {
    "scrolled": true
   },
   "outputs": [],
   "source": [
    "# -------Find a list of files-------\n",
    "  \n",
    "# get the current directory\n",
    "dirpath = os.getcwd()\n",
    "# print(\"current directory is : \" + dirpath)\n",
    "\n",
    "# Define the path to the Pictures folder\n",
    "the_dir = dirpath + '\\\\Pictures'\n",
    "\n",
    "# Find files\n",
    "all_files = list(filter(lambda x: x.endswith('.jpg'), os.listdir(the_dir)))\n",
    "\n",
    "# shuffle the list\n",
    "shuffle(all_files)\n",
    "\n",
    "# This will be used to access different folders \n",
    "conditions = ['Pictures']"
   ]
  },
  {
   "cell_type": "code",
   "execution_count": 3,
   "metadata": {},
   "outputs": [],
   "source": [
    "# -------Create the window-------\n",
    "\n",
    "# Create a window to draw in\n",
    "win = visual.Window(size= (1920, 1200) , color='black', monitor='mon2', fullscr=1) # (1920, 1200) (1536, 864)\n",
    "#win = visual.Window(size=(500, 500), color='black', monitor='mon2', fullscr=0)\n",
    "\n",
    "\n",
    "# Hide mouse\n",
    "win.setMouseVisible(False)\n",
    "\n",
    "# -------Define images and the grating-------\n",
    "\n",
    "pic = conditions[0] + '/' + all_files[0]\n",
    "# An image using ImageStim.\n",
    "#image = visual.ImageStim(win, image='pictures/face.jpg', size = 512)\n",
    "#image = visual.ImageStim(win, image= pic, size = 1000)\n",
    "\n",
    "# We can also use the grating as a flicker\n",
    "grating = visual.GratingStim(win,\n",
    "    pos=(0, 0),\n",
    "    tex='sin',\n",
    "    mask='none',\n",
    "    color='black')\n",
    "grating.size = (500, 500)  # attributes can be changed after initialization"
   ]
  },
  {
   "cell_type": "code",
   "execution_count": 4,
   "metadata": {},
   "outputs": [],
   "source": [
    "# -------Define images and the grating-------\n",
    "\n",
    "pic = conditions[0] + '/' + all_files[0]\n",
    "# An image using ImageStim.\n",
    "#image = visual.ImageStim(win, image='pictures/face.jpg', size = 512)\n",
    "image = visual.ImageStim(win, image= pic, size = (1536, 864)) # 1536, 864 (1920, 1200) 34 x 28\n",
    "\n",
    "# We can also use the grating as a flicker\n",
    "grating = visual.GratingStim(win,\n",
    "    pos=(0, 0),\n",
    "    tex='sin',\n",
    "    mask='none',\n",
    "    color='black')\n",
    "grating.size = (500, 500)  # attributes can be changed after initialization"
   ]
  },
  {
   "cell_type": "markdown",
   "metadata": {},
   "source": [
    "#### This is the equation for contrast change used inside of the following while loop:\n",
    "\n",
    "$$\\ (1-A) + (A \\times \\sin(2 \\pi f t + \\theta) ) $$\n",
    "\n",
    "$\\text{A is the amplitude of the contrast change, f is the frequency, t is the time (clock.getTime()) and the } \\theta \\text{ is phase.}$"
   ]
  },
  {
   "cell_type": "code",
   "execution_count": 5,
   "metadata": {},
   "outputs": [],
   "source": [
    "# set the parameters for flickering\n",
    "\n",
    "A = 0.3# 0.3 # can't be larger than 0.5 (min = 0.5-0.5 and max = 0.5+0.5)\n",
    "f = 15 # in Hz\n",
    "theta = pi/2 # phase offset\n",
    "\n",
    "# -------Start presenting-------\n",
    "\n",
    "# Initiate clock to keep track of time\n",
    "clock = core.Clock()\n",
    "\n",
    "# This is not necessary... \n",
    "while clock.getTime() < 0.5:\n",
    "    grating.draw()\n",
    "    win.flip()\n",
    "\n",
    "# set the file counter and start presenting\n",
    "piCount = 0\n",
    "startTime = clock.getTime() # force the time to start from zero\n",
    "while not event.getKeys('q'): # \n",
    "    time = clock.getTime()-startTime \n",
    "    image.opacity = (1-A) + ( A*sin(2*pi*f* time +  theta) ) # siia tuleks liita veel ka faas (nt pi/2)\n",
    "#    image.opacity = (0.5*sin(2*pi*15*clock.getTime()) )+0.5\n",
    "    # Show the result of all the above\n",
    "    image.draw()\n",
    "#    grating.opacity = (0.15*sin(2*pi*15*clock.getTime()) )+0.15\n",
    "#    grating.draw()\n",
    "    win.flip()\n",
    "    if event.getKeys('space'): # & \n",
    "        if len(all_files)-1 > piCount:\n",
    "            piCount += 1\n",
    "            pic = conditions[0]+'/'+all_files[piCount]\n",
    "            image = visual.ImageStim(win, image = pic, size = (1536, 864))\n",
    "            startTime = clock.getTime() # force the time to start from zero"
   ]
  },
  {
   "cell_type": "code",
   "execution_count": 6,
   "metadata": {},
   "outputs": [],
   "source": [
    "# -------Close the window and quit-------\n",
    "\n",
    "win.close()\n",
    "#core.quit()"
   ]
  },
  {
   "cell_type": "code",
   "execution_count": 8,
   "metadata": {},
   "outputs": [
    {
     "ename": "SyntaxError",
     "evalue": "invalid syntax (<ipython-input-8-d5e010906625>, line 1)",
     "output_type": "error",
     "traceback": [
      "\u001b[1;36m  File \u001b[1;32m\"<ipython-input-8-d5e010906625>\"\u001b[1;36m, line \u001b[1;32m1\u001b[0m\n\u001b[1;33m    expName = os.path.basename(%%file)\u001b[0m\n\u001b[1;37m                               ^\u001b[0m\n\u001b[1;31mSyntaxError\u001b[0m\u001b[1;31m:\u001b[0m invalid syntax\n"
     ]
    }
   ],
   "source": [
    "expName = os.path.basename()\n",
    "print(expName)"
   ]
  }
 ],
 "metadata": {
  "kernelspec": {
   "display_name": "Python 3",
   "language": "python",
   "name": "python3"
  },
  "language_info": {
   "codemirror_mode": {
    "name": "ipython",
    "version": 3
   },
   "file_extension": ".py",
   "mimetype": "text/x-python",
   "name": "python",
   "nbconvert_exporter": "python",
   "pygments_lexer": "ipython3",
   "version": "3.7.4"
  }
 },
 "nbformat": 4,
 "nbformat_minor": 2
}
